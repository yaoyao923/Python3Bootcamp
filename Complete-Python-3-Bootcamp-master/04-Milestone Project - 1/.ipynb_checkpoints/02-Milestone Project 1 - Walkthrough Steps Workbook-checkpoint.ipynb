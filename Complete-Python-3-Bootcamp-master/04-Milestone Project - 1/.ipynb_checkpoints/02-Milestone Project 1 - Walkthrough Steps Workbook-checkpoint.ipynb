{
 "cells": [
  {
   "cell_type": "markdown",
   "metadata": {},
   "source": [
    "# Milestone Project 1: Walkthrough Steps Workbook\n",
    "\n",
    "Below is a set of steps for you to follow to try to create the Tic Tac Toe Milestone Project game!"
   ]
  },
  {
   "cell_type": "markdown",
   "metadata": {},
   "source": [
    "#### Some suggested tools before you get started:\n",
    "To take input from a user:\n",
    "\n",
    "    player1 = input(\"Please pick a marker 'X' or 'O'\")\n",
    "    \n",
    "Note that input() takes in a string. If you need an integer value, use\n",
    "\n",
    "    position = int(input('Please enter a number'))\n",
    "    \n",
    "<br>To clear the screen between moves:\n",
    "\n",
    "    from IPython.display import clear_output\n",
    "    clear_output()\n",
    "    \n",
    "Note that clear_output() will only work in jupyter. To clear the screen in other IDEs, consider:\n",
    "\n",
    "    print('\\n'*100)\n",
    "    \n",
    "This scrolls the previous board up out of view. Now on to the program!"
   ]
  },
  {
   "cell_type": "markdown",
   "metadata": {},
   "source": [
    "**Step 1: Write a function that can print out a board. Set up your board as a list, where each index 1-9 corresponds with a number on a number pad, so you get a 3 by 3 board representation.**"
   ]
  },
  {
   "cell_type": "code",
   "execution_count": 1,
   "metadata": {},
   "outputs": [],
   "source": [
    "from IPython.display import clear_output\n",
    "\n",
    "def display_board(board):\n",
    "    clear_output()\n",
    "    new_list=[]\n",
    "    for item in board:\n",
    "        if item==\"#\":\n",
    "            new_list.append(\" \")\n",
    "        else:\n",
    "            new_list.append(item)\n",
    "    \n",
    "    print(\" \",        \"|\",  \" \",        \"|\")   \n",
    "    print(new_list[0],\"|\",  new_list[1],\"|\",new_list[2])\n",
    "    print(\" \",        \"|\",  \" \",        \"|\")\n",
    "    print('-'*10)\n",
    "    print(\" \",        \"|\",  \" \",        \"|\")   \n",
    "    print(new_list[3],\"|\",  new_list[4],\"|\",new_list[5])\n",
    "    print(\" \",        \"|\",  \" \",        \"|\")\n",
    "    print('-'*10)\n",
    "    print(\" \",        \"|\",  \" \",        \"|\")   \n",
    "    print(new_list[6],\"|\",  new_list[7],\"|\",new_list[8])\n",
    "    print(\" \",        \"|\",  \" \",        \"|\")\n",
    "   "
   ]
  },
  {
   "cell_type": "markdown",
   "metadata": {},
   "source": [
    "**TEST Step 1:** run your function on a test version of the board list, and make adjustments as necessary"
   ]
  },
  {
   "cell_type": "code",
   "execution_count": 2,
   "metadata": {},
   "outputs": [
    {
     "name": "stdout",
     "output_type": "stream",
     "text": [
      "  |   |\n",
      "  | X | O\n",
      "  |   |\n",
      "----------\n",
      "  |   |\n",
      "X | O | X\n",
      "  |   |\n",
      "----------\n",
      "  |   |\n",
      "O | X | O\n",
      "  |   |\n"
     ]
    }
   ],
   "source": [
    "test_board = ['#','X','O','X','O','X','O','X','O','X']\n",
    "display_board(test_board)"
   ]
  },
  {
   "cell_type": "markdown",
   "metadata": {},
   "source": [
    "**Step 2: Write a function that can take in a player input and assign their marker as 'X' or 'O'. Think about using *while* loops to continually ask until you get a correct answer.**"
   ]
  },
  {
   "cell_type": "code",
   "execution_count": null,
   "metadata": {},
   "outputs": [],
   "source": [
    "def player_input():\n",
    "    position = \"\"\n",
    "    while position!=\"X\" and position!=\"O\":\n",
    "        position=input(\"Please pick a marker 'X' or 'O' \")\n",
    "    \n",
    "    return position\n",
    "        "
   ]
  },
  {
   "cell_type": "markdown",
   "metadata": {},
   "source": [
    "**TEST Step 2:** run the function to make sure it returns the desired output"
   ]
  },
  {
   "cell_type": "code",
   "execution_count": 4,
   "metadata": {
    "scrolled": true
   },
   "outputs": [],
   "source": [
    "#player_input()"
   ]
  },
  {
   "cell_type": "markdown",
   "metadata": {},
   "source": [
    "**Step 3: Write a function that takes in the board list object, a marker ('X' or 'O'), and a desired position (number 1-9) and assigns it to the board.**"
   ]
  },
  {
   "cell_type": "code",
   "execution_count": 5,
   "metadata": {},
   "outputs": [],
   "source": [
    "def place_marker(board, marker, position):\n",
    "    board[position-1]=marker"
   ]
  },
  {
   "cell_type": "markdown",
   "metadata": {},
   "source": [
    "**TEST Step 3:** run the place marker function using test parameters and display the modified board"
   ]
  },
  {
   "cell_type": "code",
   "execution_count": 6,
   "metadata": {},
   "outputs": [
    {
     "name": "stdout",
     "output_type": "stream",
     "text": [
      "  |   |\n",
      "  | X | O\n",
      "  |   |\n",
      "----------\n",
      "  |   |\n",
      "X | O | X\n",
      "  |   |\n",
      "----------\n",
      "  |   |\n",
      "O | $ | O\n",
      "  |   |\n"
     ]
    }
   ],
   "source": [
    "place_marker(test_board,'$',8)\n",
    "display_board(test_board)"
   ]
  },
  {
   "cell_type": "markdown",
   "metadata": {},
   "source": [
    "**Step 4: Write a function that takes in a board and a mark (X or O) and then checks to see if that mark has won. **"
   ]
  },
  {
   "cell_type": "code",
   "execution_count": 7,
   "metadata": {},
   "outputs": [],
   "source": [
    "def win_check(board, mark):\n",
    "    for i in range(3):\n",
    "        \n",
    "    \n",
    "        if board[0+i*3]==board[1+i*3]==board[2+i*3]==mark:\n",
    "            return True\n",
    "        elif board[0+i]==board[3+i]==board[6+i]==mark:\n",
    "            return True\n",
    "    return board[0]==board[4]==board[8]==mark or board[2]==board[4]==board[6]==mark"
   ]
  },
  {
   "cell_type": "markdown",
   "metadata": {},
   "source": [
    "**TEST Step 4:** run the win_check function against our test_board - it should return True"
   ]
  },
  {
   "cell_type": "code",
   "execution_count": 8,
   "metadata": {},
   "outputs": [
    {
     "data": {
      "text/plain": [
       "False"
      ]
     },
     "execution_count": 8,
     "metadata": {},
     "output_type": "execute_result"
    }
   ],
   "source": [
    "win_check(test_board,'X')"
   ]
  },
  {
   "cell_type": "markdown",
   "metadata": {},
   "source": [
    "**Step 5: Write a function that uses the random module to randomly decide which player goes first. You may want to lookup random.randint() Return a string of which player went first.**"
   ]
  },
  {
   "cell_type": "code",
   "execution_count": 9,
   "metadata": {},
   "outputs": [],
   "source": [
    "import random\n",
    "\n",
    "def choose_first():\n",
    "    num=random.randint(0,1)\n",
    "    if num==0:\n",
    "        \n",
    "        return \"player 1\"\n",
    "    else:\n",
    "       \n",
    "        return \"player 2\"\n",
    "        "
   ]
  },
  {
   "cell_type": "markdown",
   "metadata": {},
   "source": [
    "**Step 6: Write a function that returns a boolean indicating whether a space on the board is freely available.**"
   ]
  },
  {
   "cell_type": "code",
   "execution_count": 10,
   "metadata": {},
   "outputs": [],
   "source": [
    "def space_check(board, position):\n",
    "\n",
    "    return board[position-1]==\" \"\n",
    "    "
   ]
  },
  {
   "cell_type": "markdown",
   "metadata": {},
   "source": [
    "**Step 7: Write a function that checks if the board is full and returns a boolean value. True if full, False otherwise.**"
   ]
  },
  {
   "cell_type": "code",
   "execution_count": 11,
   "metadata": {},
   "outputs": [],
   "source": [
    "def full_board_check(board):\n",
    "    \n",
    "    return \" \" not in board"
   ]
  },
  {
   "cell_type": "markdown",
   "metadata": {},
   "source": [
    "**Step 8: Write a function that asks for a player's next position (as a number 1-9) and then uses the function from step 6 to check if it's a free position. If it is, then return the position for later use.**"
   ]
  },
  {
   "cell_type": "code",
   "execution_count": 12,
   "metadata": {},
   "outputs": [],
   "source": [
    "def player_choice(board):\n",
    "    position=0\n",
    "    while position not in [1,2,3,4,5,6,7,8,9] or not space_check(board,position)\n",
    "        position = int(input('Please enter a different number between 1 and 9  '))\n",
    "    return position"
   ]
  },
  {
   "cell_type": "markdown",
   "metadata": {},
   "source": [
    "**Step 9: Write a function that asks the player if they want to play again and returns a boolean True if they do want to play again.**"
   ]
  },
  {
   "cell_type": "code",
   "execution_count": 13,
   "metadata": {},
   "outputs": [],
   "source": [
    "def replay():\n",
    "\n",
    "    ask_yesm=input(\"Do you want to play again? Yes or No.\"))\n",
    "    return  ask_yes==\"Yes\"\n",
    "        \n",
    "            "
   ]
  },
  {
   "cell_type": "markdown",
   "metadata": {
    "collapsed": true
   },
   "source": [
    "**Step 10: Here comes the hard part! Use while loops and the functions you've made to run the game!**"
   ]
  },
  {
   "cell_type": "code",
   "execution_count": null,
   "metadata": {},
   "outputs": [
    {
     "name": "stdout",
     "output_type": "stream",
     "text": [
      "  |   |\n",
      "  | 1 | X\n",
      "  |   |\n",
      "----------\n",
      "  |   |\n",
      "  |   |  \n",
      "  |   |\n",
      "----------\n",
      "  |   |\n",
      "  |   |  \n",
      "  |   |\n",
      "player 1's turn.\n"
     ]
    }
   ],
   "source": [
    "print('Welcome to Tic Tac Toe!')\n",
    "\n",
    "while True:\n",
    "    while True:\n",
    "        player1 = input(\"Please pick a marker 'X' or 'O'\")\n",
    "        if player1==\"X\" or play1==\"O\":\n",
    "            break\n",
    "    \n",
    "    first=choose_first()\n",
    "    board=[\" \"]*9\n",
    "    display_board(board)\n",
    "    \n",
    "    while True:\n",
    "        if first==1:\n",
    "            print(\"player 1's turn.\")\n",
    "            position=player_choice(board)\n",
    "            place_marker(board, player1, position)\n",
    "            display_board(board)\n",
    "            if win_check(board, player1):\n",
    "                print(\"player1 wins.\")\n",
    "                break\n",
    "            elif full_board_check(board):\n",
    "                print(\"nobody wins.\")\n",
    "                break\n",
    "        first = 1\n",
    "        print(\"player 2's turn.\")\n",
    "        position=player_choice(board)\n",
    "        if player1==\"X\":\n",
    "            player2=\"O\"\n",
    "        else:\n",
    "            player2=\"X\"\n",
    "        place_marker(board, player2, position)\n",
    "        display_board(board)\n",
    "        if win_check(board, player2):\n",
    "            print(\"player2 wins.\")\n",
    "            break\n",
    "        elif full_board_check(board):\n",
    "                print(\"nobody wins.\")\n",
    "                break\n",
    "    if not replay():\n",
    "        break\n",
    "    "
   ]
  },
  {
   "cell_type": "markdown",
   "metadata": {
    "collapsed": true
   },
   "source": [
    "## Good Job!"
   ]
  }
 ],
 "metadata": {
  "kernelspec": {
   "display_name": "Python 3",
   "language": "python",
   "name": "python3"
  },
  "language_info": {
   "codemirror_mode": {
    "name": "ipython",
    "version": 3
   },
   "file_extension": ".py",
   "mimetype": "text/x-python",
   "name": "python",
   "nbconvert_exporter": "python",
   "pygments_lexer": "ipython3",
   "version": "3.6.5"
  }
 },
 "nbformat": 4,
 "nbformat_minor": 1
}
